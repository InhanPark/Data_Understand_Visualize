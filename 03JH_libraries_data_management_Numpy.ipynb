{
 "cells": [
  {
   "cell_type": "code",
   "execution_count": null,
   "metadata": {},
   "outputs": [],
   "source": [
    "# Python 은 최소한의 기능만 제공하고, 각 분야에 적용할떄는 전문 library 를 사용한다 (실제로는 이것이 python 보다 더 어렵다). 아래의 것들이 이 course 에서 사용할 library 들이다.\n",
    "# - Numpy : array data (똑같은 type 의 data) 들을 다룰때 사용. 속도가 빠름\n",
    "# - Pandas : Excel 과 같이 column 별로 type 이 다른 data 들을 다룰때 사용. 활용도가 넓음\n",
    "# - Scipy : 과학 계산용 library 가 많음. Machine learning 에 많이 사용\n",
    "# - Matplotlib : data visualization 에 많이 사용되는 graph tool\n",
    "# - Seaborn : Matplotlib 을 기반으로 좀 더 쓰기 쉽고 graphic 이 다양함\n",
    "# - Statsmodels : 많은 통계적 tool 을 제공함"
   ]
  },
  {
   "cell_type": "code",
   "execution_count": null,
   "metadata": {},
   "outputs": [],
   "source": [
    "# Numpy 는 'Numeric Python' 의 약어로 주로 int 나 float 중 한가지의 data 만 사용하여 array 를 구성한다. Dimension 별로 \n",
    "# 1-dimension array (1차원 행렬) 는 [1, 2, 3, 4, 5] 와 같이 한줄로 구성된 것으로 vector 라고 부른다.\n",
    "# 2-dimension array (2차원 행렬) 는 [1, 2, 3, 4], [5, 6, 7, 8], [9, 10, 11, 12]] 와 같이 구성된 것으로 matrix 라고 부른다.\n",
    "# 3-dimension array (3차원 행렬) 는 tensor 라고 부른다.\n",
    "# 차원은 무한히 가능하나, 실제로는 1,2 차원이 주로 사용된다.\n",
    "# x 방향 (1차원), y-x 방향 (2차원), y-x-z 방향 (3차원) 으로 똑같은 숫자를 넣을수 있는 같은 크기의 작은 상자들이 무한히 있다고 생각을 하면된다. (y 가 x 보다 먼저임에 주의. '행 x 열', 'row x column' 용어 숙지)"
   ]
  },
  {
   "cell_type": "code",
   "execution_count": 2,
   "metadata": {},
   "outputs": [],
   "source": [
    "# Numpy 를 사용하려면 \n",
    "# import numpy 라고 하면 된다.\n",
    "# 그런 이렇게하면 이후의 모든곳에 'numpy' 다섯글자를 모두 써야 한다. 그래서 관례적으로 'np' 두글자만 써도 되도록 아래와 같이 library 를 부른다.\n",
    "\n",
    "import numpy as np"
   ]
  },
  {
   "cell_type": "code",
   "execution_count": 12,
   "metadata": {},
   "outputs": [
    {
     "name": "stdout",
     "output_type": "stream",
     "text": [
      "type(a) = <class 'numpy.ndarray'>\n",
      "a.shape = (3,)\n",
      "Values in a:  1 2 3\n",
      "\n",
      "b.shape = (2, 2)\n",
      "Values in b:  1 2 3 4\n",
      "\n",
      "c.shape = (2, 2)\n",
      "Values in c:  1 3 5 2 4 6\n"
     ]
    }
   ],
   "source": [
    "\"\"\"아래의 내용들이 단순해 보이지만, 앞으로의 공부에 매우 중요함. 반복 연습해서 익숙해져야함\"\"\"\n",
    "\n",
    "# x 방향으로 작은 상자 3개를 만들어 대표이름 'a'라고 하고, 각각에 1,2,3 이라는 숫자를 넣으려면 아래와 같이한다.\n",
    "a = np.array([1, 2, 3])\n",
    "\n",
    "# 'a' 의 type 을 알아보려면\n",
    "print(\"type(a) =\", type(a))\n",
    "\n",
    "# 'a' 의 모양(shape)을 알아보려면\n",
    "print(\"a.shape =\", a.shape) # x-방향만 있는 (1차원) 3개 짜리\n",
    "\n",
    "# 'a'의 각 상자에 들어있는 숫자를 알아보려면\n",
    "print(\"Values in a: \", a[0], a[1], a[2])\n",
    "print()\n",
    "\n",
    "# y-x 방향으로 2x2 2차원 상자의 배열을 만들고 (총4개), 각각에 1, 2, 3, 4 를 넣으려면\n",
    "b = np.array([[1, 2], [3, 4]])\n",
    "\n",
    "# 'b' 의 모양(shape)을 알아보려면\n",
    "print(\"b.shape =\", b.shape) # y-x 방향이 있는 (2차원) 2x2=4개 짜리\n",
    "\n",
    "# 'b'의 각 상자에 들어있는 숫자를 알아보려면\n",
    "print(\"Values in b: \", b[0, 0], b[0, 1], b[1, 0], b[1, 1])\n",
    "print()\n",
    "\n",
    "# y-x 방향으로 3x2 2차원 상자의 배열을 만들고 (총6개), 각각에 1, 2, 3, 4, 5, 6 를 넣으려면\n",
    "c = np.array([[1, 2], [3, 4], [5, 6]])\n",
    "\n",
    "# 이것을 이렇게 쓰면 좀 더 이해하기 쉬움\n",
    "c = np.array([[1, 2], \n",
    "              [3, 4], \n",
    "              [5, 6]])\n",
    "\n",
    "# 'c' 의 모양(shape)을 알아보려면\n",
    "print(\"c.shape =\", b.shape) # y-x 방향이 있는 (2차원) 3x2=6개 짜리\n",
    "\n",
    "# 'c'의 각 상자에 들어있는 숫자를 알아보려면\n",
    "print(\"Values in c: \", c[0, 0], c[1, 0], c[2, 0], c[0, 1], c[1, 1], c[2, 1])\n",
    "print()"
   ]
  },
  {
   "cell_type": "code",
   "execution_count": 13,
   "metadata": {},
   "outputs": [
    {
     "name": "stdout",
     "output_type": "stream",
     "text": [
      "d =\n",
      " [[0. 0. 0.]\n",
      " [0. 0. 0.]]\n",
      "\n",
      "e =\n",
      " [[1. 1.]\n",
      " [1. 1.]\n",
      " [1. 1.]\n",
      " [1. 1.]]\n",
      "\n",
      "f =\n",
      " [[9 9]\n",
      " [9 9]]\n",
      "\n",
      "g =\n",
      " [[0.68328041 0.62892867 0.93388793]\n",
      " [0.23639449 0.31067165 0.32885298]\n",
      " [0.66165276 0.83436431 0.95973428]]\n",
      "\n",
      "h =\n",
      " [[2.12199579e-314 9.82484051e-312]\n",
      " [8.10267659e-321 6.95250701e-310]]\n"
     ]
    }
   ],
   "source": [
    "\"\"\"numpy array 를 만드는 여러가지 방법이 있음\"\"\"\n",
    "\n",
    "# zero 로 채워진 2x3 array\n",
    "d = np.zeros((2, 3))\n",
    "print(\"d =\\n\", d)\n",
    "\n",
    "# 1 로 채워진 4x2 array\n",
    "e = np.ones((4, 2))\n",
    "print(\"\\ne =\\n\", e)\n",
    "\n",
    "# 상수 9로 채워진 2x2 array\n",
    "f = np.full((2, 2), 9)\n",
    "print(\"\\nf =\\n\", f)\n",
    "\n",
    "# random 숫자로 재워진 3x3 array (여러가지 실험에 사용 가능)\n",
    "g = np.random.random((3, 3))\n",
    "print(\"\\ng =\\n\", g)\n",
    "\n",
    "# 초기화 안된 임의값으로 채워진 2x2 array\n",
    "h = np.empty((2, 2))\n",
    "print(\"\\nh =\\n\", h)"
   ]
  },
  {
   "cell_type": "code",
   "execution_count": 15,
   "metadata": {},
   "outputs": [
    {
     "name": "stdout",
     "output_type": "stream",
     "text": [
      "h=\n",
      " [[ 1  2  3  4]\n",
      " [ 5  6  7  8]\n",
      " [ 9 10 11 12]]\n",
      "\n",
      "i=\n",
      " [[2 3]\n",
      " [6 7]]\n",
      "\n",
      "h[0, 1] = 2\n",
      "\n",
      "h[0, 1] = 1738\n",
      "\n",
      "Deep Copy ***\n",
      "h=\n",
      " [[ 1  2  3  4]\n",
      " [ 5  6  7  8]\n",
      " [ 9 10 11 12]]\n",
      "\n",
      "i=\n",
      " [[2 3]\n",
      " [6 7]]\n",
      "\n",
      "h[0, 1] = 2\n",
      "\n",
      "h[0, 1] = 2\n"
     ]
    }
   ],
   "source": [
    "\"\"\"Array 조작하기 (Slicing and Aliasing)\"\"\"\n",
    "\n",
    "# 3x4 array 를 만들기\n",
    "h = np.array([[1, 2, 3, 4], \n",
    "              [5, 6, 7, 8], \n",
    "              [9, 10, 11, 12]])\n",
    "print(\"h=\\n\", h)\n",
    "\n",
    "# 2x2 array 로 일부를 잘라내기\n",
    "i = h[:2, 1:3] # h의 0-1 행과 1-2 열을 잘라내어 i 라는 2x2 행렬을 만든것임. (뒷숫자가 하나씩 적음에 주의)\n",
    "print(\"\\ni=\\n\", i)\n",
    "print(\"\\nh[0, 1] =\", h[0, 1])\n",
    "\n",
    "# 잘라낸 array (i) 의 한 원소를 수정하기\n",
    "i[0, 0] = 1738\n",
    "\n",
    "# 잘라낸 것 (i)의 수정이 원래의 것(h)에 미친 영향을 보기\n",
    "print(\"\\nh[0, 1] =\", h[0, 1])\n",
    "\n",
    "# 잘라낸 것을 수정한 것이 원래의 것을 바꾸는 것은 소위 'shallow copy' 를 했기 때문이다. Memory 내용은 그대로 두고 위치만 잘라내었기 때문이다. 이렇게 하지 않고 Memory 내용까지 완전히 잘라내어 새로 만드는 것을 'deep copy' 라고 한다. 'copy' method 를 따로 써준다.\n",
    "\n",
    "print(\"\\nDeep Copy ***\")\n",
    "h = np.array([[1, 2, 3, 4], \n",
    "              [5, 6, 7, 8], \n",
    "              [9, 10, 11, 12]])\n",
    "print(\"h=\\n\", h)\n",
    "i = h[:2, 1:3].copy() # deep copy\n",
    "print(\"\\ni=\\n\", i)\n",
    "print(\"\\nh[0, 1] =\", h[0, 1])\n",
    "i[0, 0] = 1738\n",
    "print(\"\\nh[0, 1] =\", h[0, 1])"
   ]
  },
  {
   "cell_type": "code",
   "execution_count": 3,
   "metadata": {},
   "outputs": [
    {
     "name": "stdout",
     "output_type": "stream",
     "text": [
      "int32\n",
      "float64\n",
      "int64\n",
      "[1 2]\n"
     ]
    }
   ],
   "source": [
    "\"\"\"Data Type 을 확인하기\"\"\"\n",
    "# Numpty 는 한종류의 data 만을 가질 수 있기에 data type 을 확인하거나 지정할 수 있다.\n",
    "\n",
    "# integer 임을 확인\n",
    "j = np.array([1, 2])\n",
    "print(j.dtype)  \n",
    "\n",
    "# float 임을 확인\n",
    "k = np.array([1.0, 2.0])\n",
    "print(k.dtype)   \n",
    "\n",
    "# Data type 을 강제로 지정\n",
    "l = np.array([1.0, 2.0], dtype=np.int64) # float 을 int64 로 강제 변경\n",
    "print(l.dtype)\n",
    "print(l)  # float 이 integer 로 바뀌어 있다."
   ]
  },
  {
   "cell_type": "code",
   "execution_count": 6,
   "metadata": {},
   "outputs": [
    {
     "name": "stdout",
     "output_type": "stream",
     "text": [
      "x + y =\n",
      " [[ 6.  8.]\n",
      " [10. 12.]]\n",
      "[[ 6.  8.]\n",
      " [10. 12.]]\n",
      "\n",
      "x - y =\n",
      " [[-4. -4.]\n",
      " [-4. -4.]]\n",
      "[[-4. -4.]\n",
      " [-4. -4.]]\n",
      "\n",
      "x * y =\n",
      " [[ 5. 12.]\n",
      " [21. 32.]]\n",
      "[[ 5. 12.]\n",
      " [21. 32.]]\n",
      "\n",
      "x / y =\n",
      " [[0.2        0.33333333]\n",
      " [0.42857143 0.5       ]]\n",
      "[[0.2        0.33333333]\n",
      " [0.42857143 0.5       ]]\n",
      "\n",
      "sqrt(x) =\n",
      " [[1.         1.41421356]\n",
      " [1.73205081 2.        ]]\n"
     ]
    }
   ],
   "source": [
    "\"\"\"Array 간의 연산\"\"\"\n",
    "# float 64 (64비트 실수) data array 간의 연산\n",
    "x = np.array([[1, 2],[3, 4]], dtype=np.float64)\n",
    "y = np.array([[5, 6],[7, 8]], dtype=np.float64)\n",
    "\n",
    "# 원소(element) 끼리 더하기를 하는 두가지 방법\n",
    "print(\"x + y =\\n\", x + y)\n",
    "print(np.add(x, y))\n",
    "\n",
    "# 원소끼리 빼기를 하는 두가지 방법\n",
    "print(\"\\nx - y =\\n\", x - y)\n",
    "print(np.subtract(x, y))\n",
    "\n",
    "# 원소끼리 곱하기를 하는 두가지 방법\n",
    "print(\"\\nx * y =\\n\", x * y)\n",
    "print(np.multiply(x, y))\n",
    "\n",
    "# 원소끼리 나누기를 하는 두가지 방법\n",
    "print(\"\\nx / y =\\n\", x / y)\n",
    "print(np.divide(x, y))\n",
    "\n",
    "# 원소들 각각의 제곱근을 구하는 방법\n",
    "print(\"\\nsqrt(x) =\\n\", np.sqrt(x))"
   ]
  },
  {
   "cell_type": "code",
   "execution_count": 8,
   "metadata": {},
   "outputs": [
    {
     "name": "stdout",
     "output_type": "stream",
     "text": [
      "x =\n",
      " [[1 2]\n",
      " [3 4]]\n",
      "\n",
      "sum(x) = 10\n",
      "sum(x, axis=0) = [4 6]\n",
      "sum(x, axis=1) = [3 7]\n",
      "\n",
      "mean(x) = 2.5\n",
      "mean(x, axis=0) = [2. 3.]\n",
      "mean(x, axis=1) = [1.5 3.5]\n"
     ]
    }
   ],
   "source": [
    "\"\"\"단독 Array 에서의 연산\"\"\"\n",
    "# x 라는 array 에 대해서 연산\n",
    "x = np.array([[1,2],[3,4]])\n",
    "print(\"x =\\n\", x)\n",
    "\n",
    "# 모든 원소를 더함\n",
    "print(\"\\nsum(x) =\", np.sum(x))\n",
    "\n",
    "# 각각의 column 별로 더함 (column 방향을 axis=0 라고 함. 수직 방향)\n",
    "print(\"sum(x, axis=0) =\", np.sum(x, axis=0)) \n",
    "\n",
    "# 각각의 row 별로 더함 (row 방향을 axis=1 라고 함. 수평 방향)\n",
    "print(\"sum(x, axis=1) =\", np.sum(x, axis=1))\n",
    "\n",
    "# 모든 원소의 평균을 구함\n",
    "print(\"\\nmean(x) =\", np.mean(x))\n",
    "\n",
    "# 각 column 의 평균을 구함\n",
    "print(\"mean(x, axis=0) =\", np.mean(x, axis=0)) \n",
    "\n",
    "# 각 row 의 평균을 구함\n",
    "print(\"mean(x, axis=1) =\", np.mean(x, axis=1))"
   ]
  }
 ],
 "metadata": {
  "kernelspec": {
   "display_name": "base",
   "language": "python",
   "name": "python3"
  },
  "language_info": {
   "codemirror_mode": {
    "name": "ipython",
    "version": 3
   },
   "file_extension": ".py",
   "mimetype": "text/x-python",
   "name": "python",
   "nbconvert_exporter": "python",
   "pygments_lexer": "ipython3",
   "version": "3.7.11"
  }
 },
 "nbformat": 4,
 "nbformat_minor": 2
}
