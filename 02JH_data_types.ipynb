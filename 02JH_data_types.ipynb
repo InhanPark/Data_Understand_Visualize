{
 "cells": [
  {
   "cell_type": "code",
   "execution_count": 7,
   "metadata": {},
   "outputs": [],
   "source": [
    "# numpy 의 library 를 사용하기 위하여 import\n",
    "import numpy as np\n",
    "\n",
    "# Python 의 data type 은 boolean, integer, float, string, list, None, complex, object, set, dictionary 가 있다."
   ]
  },
  {
   "cell_type": "code",
   "execution_count": 22,
   "metadata": {},
   "outputs": [
    {
     "name": "stdout",
     "output_type": "stream",
     "text": [
      "<class 'int'>\n",
      "<class 'float'>\n",
      "<class 'int'>\n",
      "<class 'int'>\n",
      "\n",
      "2.0 <class 'float'>\n",
      "0.6 <class 'float'>\n",
      "0 <class 'int'>\n",
      "3 <class 'int'>\n",
      "0.6000000000000001\n",
      "\n",
      "3.141592653589793 <class 'float'>\n",
      "3.5\n",
      "<class 'numpy.float64'>\n"
     ]
    }
   ],
   "source": [
    "# Quantitative (정량적, numerical) Variable Types\n",
    "# - Discrete variable (이산형 변수) : 어떤 범위에 제한된 갯수의 data 만 가능\n",
    "#   (예. 1~10 사이에는 10개의 정수만 가능하다)\n",
    "# - Continuous variable (연속현 변수) : 어떤 범위에 무한 갯수의 data 가능\n",
    "#   (예. 1~10 사이에는 무한개의 실수가 가능하다)\n",
    "\n",
    "# type(data) 은 data 을 알려준다.\n",
    "# 여러 경우의 integer, float number 이다.\n",
    "\n",
    "print(type(4))\n",
    "print(type(4.))\n",
    "print(type(0))\n",
    "print(type(-3))\n",
    "print()\n",
    "\n",
    "print(10/5, type(10/5)) # integer/integer 는 float 이 된다.\n",
    "print(3/5, type(3/5)) \n",
    "print(3//5, type(3//5)) # integer/integer 의 몫은 integer 이다.\n",
    "print(3%5, type(3%5)) # integer/integer 의 나머지도 integer 이다.\n",
    "print(6*10**(-1)) # 거듭제곱\n",
    "print()\n",
    "\n",
    "print(np.pi, type(np.pi)) # 원주율 pi 는 실수이다. (numpy data)\n",
    "numbers = np.r_[2, 3, 4, 5] # numpy float 이 있다.\n",
    "print(numbers.mean())\n",
    "print(type(numbers.mean()))"
   ]
  },
  {
   "cell_type": "code",
   "execution_count": 19,
   "metadata": {},
   "outputs": [
    {
     "name": "stdout",
     "output_type": "stream",
     "text": [
      "<class 'bool'>\n",
      "False\n",
      "True\n",
      "<class 'bool'>\n",
      "\n",
      "\n",
      "[True, False, False, True]\n",
      "<class 'bool'>\n",
      "<class 'bool'>\n",
      "<class 'bool'>\n",
      "<class 'bool'>\n",
      "\n",
      "0.5\n"
     ]
    },
    {
     "data": {
      "text/plain": [
       "float"
      ]
     },
     "execution_count": 19,
     "metadata": {},
     "output_type": "execute_result"
    }
   ],
   "source": [
    "# Categorical (or qualitative) Variable Types\n",
    "# - Nominal Variable (명목 변수) : 이름 대신 숫자를 붙인것 (예. 여자-0, 남자-1, 한국-82)\n",
    "# - Ordinal Variable (순서 변수) : 순서를 숫자로 표시한 것 (빵의 고객 선호도 5단계)\n",
    "\n",
    "# Boolean variable 은 'True', 'False' 의 두 값을 가지며, 연산이 가능하다.\n",
    "print(type(True))\n",
    "print(6 < 5)\n",
    "print(5 < 6)\n",
    "print(type(5 < 6))\n",
    "print()\n",
    "\n",
    "# Boolean variable 은 if 문의 control 에 사용된다.\n",
    "if 6 < 5:\n",
    "    print(\"Yes!\")\n",
    "print()\n",
    "\n",
    "# 이 list 에 들어있는 것은 모두 boolean 이다.\n",
    "myList = [True, 6<5, 1==3, None is None] \n",
    "print(myList)\n",
    "for element in myList:\n",
    "    print(type(element))\n",
    "print()\n",
    "\n",
    "# 어떤 경우 True=1, False=0 의 integer 로 convert 된다.\n",
    "print(sum(myList)/len(myList))\n",
    "type(sum(myList)/len(myList))"
   ]
  },
  {
   "cell_type": "code",
   "execution_count": 21,
   "metadata": {},
   "outputs": [
    {
     "name": "stdout",
     "output_type": "stream",
     "text": [
      "<class 'str'>\n",
      "<class 'str'>\n",
      "This sentence makes       \n",
      "      sense\n",
      "25\n"
     ]
    }
   ],
   "source": [
    "# Python 에서 string 은 unicode 문자의 열이다.\n",
    "print(type(\"This sentence makes sense\")) # double quote\n",
    "print(type('This sentence makes sense')) # single quote\n",
    "print(\"\"\"This sentence makes       \n",
    "      sense\"\"\")                   # triple quote 는 multi-line 이 가능\n",
    "print(len('This sentence makes sense')) # string 는 열이므로 길이가 있다."
   ]
  },
  {
   "cell_type": "code",
   "execution_count": 23,
   "metadata": {},
   "outputs": [
    {
     "name": "stdout",
     "output_type": "stream",
     "text": [
      "<class 'NoneType'>\n",
      "True\n",
      "True\n"
     ]
    },
    {
     "ename": "TypeError",
     "evalue": "unsupported operand type(s) for *: 'NoneType' and 'int'",
     "output_type": "error",
     "traceback": [
      "\u001b[1;31m---------------------------------------------------------------------------\u001b[0m",
      "\u001b[1;31mTypeError\u001b[0m                                 Traceback (most recent call last)",
      "\u001b[1;32mC:\\Users\\Public\\Documents\\ESTsoft\\CreatorTemp\\ipykernel_8712\\2778271754.py\u001b[0m in \u001b[0;36m<module>\u001b[1;34m\u001b[0m\n\u001b[0;32m      4\u001b[0m \u001b[0mprint\u001b[0m\u001b[1;33m(\u001b[0m\u001b[1;32mNone\u001b[0m \u001b[1;32mis\u001b[0m \u001b[1;32mNone\u001b[0m\u001b[1;33m)\u001b[0m\u001b[1;33m\u001b[0m\u001b[1;33m\u001b[0m\u001b[0m\n\u001b[0;32m      5\u001b[0m \u001b[0mprint\u001b[0m\u001b[1;33m(\u001b[0m\u001b[1;32mNone\u001b[0m \u001b[1;33m==\u001b[0m \u001b[1;32mNone\u001b[0m\u001b[1;33m)\u001b[0m\u001b[1;33m\u001b[0m\u001b[1;33m\u001b[0m\u001b[0m\n\u001b[1;32m----> 6\u001b[1;33m \u001b[0mprint\u001b[0m\u001b[1;33m(\u001b[0m\u001b[1;32mNone\u001b[0m\u001b[1;33m*\u001b[0m\u001b[1;36m5\u001b[0m\u001b[1;33m)\u001b[0m\u001b[1;33m\u001b[0m\u001b[1;33m\u001b[0m\u001b[0m\n\u001b[0m",
      "\u001b[1;31mTypeError\u001b[0m: unsupported operand type(s) for *: 'NoneType' and 'int'"
     ]
    }
   ],
   "source": [
    "# 'None' 의 '의미가 있는 값이 아님'이라는 뜻의 data 이다. (반면 0은 zero 라는 의미가 있는 값이다.)\n",
    "# data table 등에서 data 가 없음을 표시한다.\n",
    "print(type(None))\n",
    "print(None is None)\n",
    "print(None == None)\n",
    "print(None*5) # 연산이 안된다"
   ]
  },
  {
   "cell_type": "code",
   "execution_count": 25,
   "metadata": {},
   "outputs": [
    {
     "name": "stdout",
     "output_type": "stream",
     "text": [
      "<class 'int'>\n",
      "<class 'float'>\n",
      "<class 'int'>\n",
      "\n",
      "<class 'int'>\n",
      "<class 'float'>\n",
      "<class 'str'>\n",
      "<class 'NoneType'>\n",
      "\n"
     ]
    },
    {
     "ename": "TypeError",
     "evalue": "unsupported operand type(s) for +: 'float' and 'str'",
     "output_type": "error",
     "traceback": [
      "\u001b[1;31m---------------------------------------------------------------------------\u001b[0m",
      "\u001b[1;31mTypeError\u001b[0m                                 Traceback (most recent call last)",
      "\u001b[1;32mC:\\Users\\Public\\Documents\\ESTsoft\\CreatorTemp\\ipykernel_8712\\3803313515.py\u001b[0m in \u001b[0;36m<module>\u001b[1;34m\u001b[0m\n\u001b[0;32m     13\u001b[0m \u001b[1;33m\u001b[0m\u001b[0m\n\u001b[0;32m     14\u001b[0m \u001b[1;31m# 연산은 안된다.\u001b[0m\u001b[1;33m\u001b[0m\u001b[1;33m\u001b[0m\u001b[1;33m\u001b[0m\u001b[0m\n\u001b[1;32m---> 15\u001b[1;33m \u001b[0msum\u001b[0m\u001b[1;33m(\u001b[0m\u001b[0mmyList\u001b[0m\u001b[1;33m)\u001b[0m\u001b[1;33m/\u001b[0m\u001b[0mlen\u001b[0m\u001b[1;33m(\u001b[0m\u001b[0mmyList\u001b[0m\u001b[1;33m)\u001b[0m\u001b[1;33m\u001b[0m\u001b[1;33m\u001b[0m\u001b[0m\n\u001b[0m",
      "\u001b[1;31mTypeError\u001b[0m: unsupported operand type(s) for +: 'float' and 'str'"
     ]
    }
   ],
   "source": [
    "# integer/float list 는 연산이 된다.\n",
    "myList = [1, 2.7, 3]\n",
    "for element in myList:\n",
    "    print(type(element))\n",
    "sum(myList)/len(myList) # note that this outputs a float\n",
    "print()\n",
    "\n",
    "# List 는 string, None data type 을 포함할 수 있지만, \n",
    "myList = [1, 1.1, \"This is a string\", None]\n",
    "for element in myList:\n",
    "    print(type(element))\n",
    "print()\n",
    "\n",
    "# 연산은 안된다.\n",
    "sum(myList)/len(myList) "
   ]
  },
  {
   "cell_type": "code",
   "execution_count": 26,
   "metadata": {},
   "outputs": [
    {
     "name": "stdout",
     "output_type": "stream",
     "text": [
      "third\n",
      "1\n",
      "['first', 'large', 'medium', 'small', 'third']\n"
     ]
    }
   ],
   "source": [
    "# List 의 element 와 vector (다른 list 등) 는 '0'에서 시작하는 순서로 access 된다.\n",
    "myList = ['third', 'first', 'medium', 'small', 'large']\n",
    "print(myList[0])\n",
    "\n",
    "# 몇번째 element 인지도 알 수 있다.\n",
    "print(myList.count('medium'))\n",
    "\n",
    "# sort 도 된다.\n",
    "myList.sort()\n",
    "print(myList)"
   ]
  }
 ],
 "metadata": {
  "kernelspec": {
   "display_name": "base",
   "language": "python",
   "name": "python3"
  },
  "language_info": {
   "codemirror_mode": {
    "name": "ipython",
    "version": 3
   },
   "file_extension": ".py",
   "mimetype": "text/x-python",
   "name": "python",
   "nbconvert_exporter": "python",
   "pygments_lexer": "ipython3",
   "version": "3.7.11"
  }
 },
 "nbformat": 4,
 "nbformat_minor": 2
}
