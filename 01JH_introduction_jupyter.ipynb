{
 "cells": [
  {
   "cell_type": "code",
   "execution_count": 1,
   "metadata": {},
   "outputs": [
    {
     "name": "stdout",
     "output_type": "stream",
     "text": [
      "This is a python code cell\n"
     ]
    }
   ],
   "source": [
    "# print 뒤의 괄호안에 있는것이 화면에 출력됨\n",
    "print(\"This is a python code cell\")"
   ]
  },
  {
   "cell_type": "code",
   "execution_count": 2,
   "metadata": {},
   "outputs": [
    {
     "data": {
      "text/plain": [
       "4"
      ]
     },
     "execution_count": 2,
     "metadata": {},
     "output_type": "execute_result"
    }
   ],
   "source": [
    "# print 를 사용하지 않으면 모든 line 이 실행은 되더라도 결과는 마지막 라인만 됨\n",
    "1+2\n",
    "1+3"
   ]
  },
  {
   "cell_type": "code",
   "execution_count": 3,
   "metadata": {},
   "outputs": [
    {
     "name": "stdout",
     "output_type": "stream",
     "text": [
      "3\n",
      "4\n"
     ]
    }
   ],
   "source": [
    "# print 를 사용하면 모든 line 의 실행 결과가 출력됨\n",
    "print(1+2)\n",
    "print(1+3)"
   ]
  },
  {
   "cell_type": "code",
   "execution_count": 4,
   "metadata": {},
   "outputs": [],
   "source": [
    "# 모든 line 이 실행은 되더라도 출력은 안되게 하려면 마지막 라인에 ';'을 넣으면 됨\n",
    "1+2\n",
    "1+3;"
   ]
  },
  {
   "cell_type": "code",
   "execution_count": 7,
   "metadata": {},
   "outputs": [
    {
     "name": "stdout",
     "output_type": "stream",
     "text": [
      "x has been set to 1738\n"
     ]
    }
   ],
   "source": [
    "# global variable (전역변수) 는 한 cell 에서 실행하면 이후의 모든 cell 에서 사용 가능함 (안쓰는게 좋음).Function 내부에서만 사용되는 local variable (지역변수) 와 다름\n",
    "\n",
    "x = 1738  # global variable 이 선언되고 '1738' 로 initialization (초기화) 되었음\n",
    "print(\"x has been set to \" + str(x)) # string 에 연결해 출력하려면 숫자를 str 로 바꾸어야 함"
   ]
  },
  {
   "cell_type": "code",
   "execution_count": 8,
   "metadata": {},
   "outputs": [
    {
     "name": "stdout",
     "output_type": "stream",
     "text": [
      "1738\n"
     ]
    }
   ],
   "source": [
    "# 다른 cell 에서도 사용 가능함\n",
    "print(x)"
   ]
  },
  {
   "cell_type": "markdown",
   "metadata": {},
   "source": []
  }
 ],
 "metadata": {
  "kernelspec": {
   "display_name": "base",
   "language": "python",
   "name": "python3"
  },
  "language_info": {
   "codemirror_mode": {
    "name": "ipython",
    "version": 3
   },
   "file_extension": ".py",
   "mimetype": "text/x-python",
   "name": "python",
   "nbconvert_exporter": "python",
   "pygments_lexer": "ipython3",
   "version": "3.7.11"
  }
 },
 "nbformat": 4,
 "nbformat_minor": 2
}
